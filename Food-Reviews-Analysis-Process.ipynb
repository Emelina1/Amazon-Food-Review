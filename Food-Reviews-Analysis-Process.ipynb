{
 "cells": [
  {
   "cell_type": "markdown",
   "id": "83eef905-618d-4c1f-b1d4-0eca7e9e2813",
   "metadata": {},
   "source": [
    "# Food Reviews Exploration"
   ]
  },
  {
   "cell_type": "markdown",
   "id": "dfbf41cc-a5f9-471d-b1e9-ca31409cc48f",
   "metadata": {},
   "source": [
    "### Description"
   ]
  },
  {
   "cell_type": "markdown",
   "id": "7664a57a-42e4-4b7f-bae1-e4bf9930047b",
   "metadata": {},
   "source": [
    "Personal project to explore natural language and user behavior analysis methods using Python, Power BI and LLM aided analysis of clusters. The dataset used consists of 568,454 reviews on Amazon fine foods for 74,258 different products from Oct 1999 to Oct 2012. Reviews include product and user information, ratings, and a plain text review. "
   ]
  },
  {
   "cell_type": "markdown",
   "id": "6f459ca9-0f84-4c53-bd56-590bf085af1f",
   "metadata": {},
   "source": [
    "| Variable | Description |\n",
    "| :- | :- |\n",
    "| Id | Assigned number for product. |\n",
    "| ProductId | Unique identifier for the product |\n",
    "| UserId | Unique identifier for the user |\n",
    "| ProfileName | Profile name of the user |\n",
    "| HelpfulnessNumerator | Number of users who found the review helpful |\n",
    "| HelpfulnessDenominator | Number of users who indicated review helpfulness |\n",
    "| Score | Rating between 1 and 5  |\n",
    "| Time | Timestamp for the review  |\n",
    "| Summary | Brief summary of the review |\n",
    "| Text | Text of the review  |"
   ]
  },
  {
   "cell_type": "markdown",
   "id": "534db00a-ced9-4ecc-a6e0-cc965c0db7c6",
   "metadata": {},
   "source": [
    "### Data cleaning"
   ]
  },
  {
   "cell_type": "markdown",
   "id": "cfbda984-404a-43c1-9199-a464ca41c6cd",
   "metadata": {},
   "source": [
    "- 2 rows with invalid numerators were deleted.\n",
    "- The lack of product or food categories limited the analysis; Product IDs no longer exist in the Amazon catalogue so they could not be sourced externally. Analysis focused on themes and sentiment.\n",
    "- 30,7% of texts are duplicates. A manual sample reviews showed probable relation to the scraping process or spam posting. These rows were dropped to finetune the text analysis.\n",
    "- Two reviews with over 15,000 characters were discarded as outliers."
   ]
  },
  {
   "cell_type": "markdown",
   "id": "324f9cda-3baa-45f9-ab6c-9e35c0a6da29",
   "metadata": {},
   "source": [
    "### Analysis objectives: \n",
    "\n",
    "- Review engagement motivation.\n",
    "- Negative vs positive reviews main motifs.\n",
    "- Helpfulness trends (What makes a review helpful?).\n",
    "- Analize yearly and monthly patterns.\n",
    "- Recurrent vs one-time user trends."
   ]
  },
  {
   "cell_type": "markdown",
   "id": "6edfbd98-6a25-4148-9eb8-d76860543ad9",
   "metadata": {},
   "source": [
    "### EDA"
   ]
  },
  {
   "cell_type": "markdown",
   "id": "c98b773e-6c63-4ea9-bf76-d1bc1e646e69",
   "metadata": {},
   "source": [
    "- Reviews increased exponentially up to 2012, peaking by 2021, which correlates to product variety increase (Unique Product IDs). October sees the highest average review count, while November sees the lowest.\n",
    "- Score: 5 star reviews dominate the dataset consistently, followed by 1 start reviews.\n",
    "- Helpfulness: Helpful votes grew 5 times faster and reach 3 times more counts than Non Helpful votes. \n",
    "- Users: 80% of users reviewed once; 0,05%% posted >50 reviews. Excessive reviewers gathered more positive scores; based on reading reviewed, many are potential bots or spam users.\n",
    "- Engagement and themes: Reviews cluster around experience, emotion, health, practical value. Most helpful reviews further highlight warnings, ingredients and quality.\n",
    "- Longer texts tend to have 5 starts, and 500-1,000 character lengths clutter most helpful reviews, suggesting 20–60 seconds reading time is optimal. "
   ]
  },
  {
   "cell_type": "code",
   "execution_count": null,
   "id": "1893123c-c5f1-43d3-ae80-f538650efc7d",
   "metadata": {},
   "outputs": [],
   "source": [
    "import pandas as pd\n",
    "import numpy as np\n",
    "import matplotlib.pyplot as plt\n",
    "import seaborn as sns\n",
    "from wordcloud import WordCloud, STOPWORDS\n",
    "from textblob import TextBlob\n",
    "from sklearn.feature_extraction.text import TfidfVectorizer\n",
    "from sklearn.cluster import KMeans\n",
    "from sklearn.feature_extraction.text import CountVectorizer"
   ]
  },
  {
   "cell_type": "code",
   "execution_count": 41,
   "id": "3cc13eb2-7386-4d09-bebd-3e69e39b2853",
   "metadata": {},
   "outputs": [
    {
     "data": {
      "text/html": [
       "<div>\n",
       "<style scoped>\n",
       "    .dataframe tbody tr th:only-of-type {\n",
       "        vertical-align: middle;\n",
       "    }\n",
       "\n",
       "    .dataframe tbody tr th {\n",
       "        vertical-align: top;\n",
       "    }\n",
       "\n",
       "    .dataframe thead th {\n",
       "        text-align: right;\n",
       "    }\n",
       "</style>\n",
       "<table border=\"1\" class=\"dataframe\">\n",
       "  <thead>\n",
       "    <tr style=\"text-align: right;\">\n",
       "      <th></th>\n",
       "      <th>Id</th>\n",
       "      <th>ProductId</th>\n",
       "      <th>UserId</th>\n",
       "      <th>ProfileName</th>\n",
       "      <th>HelpfulnessNumerator</th>\n",
       "      <th>HelpfulnessDenominator</th>\n",
       "      <th>Score</th>\n",
       "      <th>Time</th>\n",
       "      <th>Summary</th>\n",
       "      <th>Text</th>\n",
       "    </tr>\n",
       "  </thead>\n",
       "  <tbody>\n",
       "    <tr>\n",
       "      <th>0</th>\n",
       "      <td>1</td>\n",
       "      <td>B001E4KFG0</td>\n",
       "      <td>A3SGXH7AUHU8GW</td>\n",
       "      <td>delmartian</td>\n",
       "      <td>1</td>\n",
       "      <td>1</td>\n",
       "      <td>5</td>\n",
       "      <td>1303862400</td>\n",
       "      <td>Good Quality Dog Food</td>\n",
       "      <td>I have bought several of the Vitality canned d...</td>\n",
       "    </tr>\n",
       "    <tr>\n",
       "      <th>1</th>\n",
       "      <td>2</td>\n",
       "      <td>B00813GRG4</td>\n",
       "      <td>A1D87F6ZCVE5NK</td>\n",
       "      <td>dll pa</td>\n",
       "      <td>0</td>\n",
       "      <td>0</td>\n",
       "      <td>1</td>\n",
       "      <td>1346976000</td>\n",
       "      <td>Not as Advertised</td>\n",
       "      <td>Product arrived labeled as Jumbo Salted Peanut...</td>\n",
       "    </tr>\n",
       "    <tr>\n",
       "      <th>2</th>\n",
       "      <td>3</td>\n",
       "      <td>B000LQOCH0</td>\n",
       "      <td>ABXLMWJIXXAIN</td>\n",
       "      <td>Natalia Corres \"Natalia Corres\"</td>\n",
       "      <td>1</td>\n",
       "      <td>1</td>\n",
       "      <td>4</td>\n",
       "      <td>1219017600</td>\n",
       "      <td>\"Delight\" says it all</td>\n",
       "      <td>This is a confection that has been around a fe...</td>\n",
       "    </tr>\n",
       "    <tr>\n",
       "      <th>3</th>\n",
       "      <td>4</td>\n",
       "      <td>B000UA0QIQ</td>\n",
       "      <td>A395BORC6FGVXV</td>\n",
       "      <td>Karl</td>\n",
       "      <td>3</td>\n",
       "      <td>3</td>\n",
       "      <td>2</td>\n",
       "      <td>1307923200</td>\n",
       "      <td>Cough Medicine</td>\n",
       "      <td>If you are looking for the secret ingredient i...</td>\n",
       "    </tr>\n",
       "    <tr>\n",
       "      <th>4</th>\n",
       "      <td>5</td>\n",
       "      <td>B006K2ZZ7K</td>\n",
       "      <td>A1UQRSCLF8GW1T</td>\n",
       "      <td>Michael D. Bigham \"M. Wassir\"</td>\n",
       "      <td>0</td>\n",
       "      <td>0</td>\n",
       "      <td>5</td>\n",
       "      <td>1350777600</td>\n",
       "      <td>Great taffy</td>\n",
       "      <td>Great taffy at a great price.  There was a wid...</td>\n",
       "    </tr>\n",
       "  </tbody>\n",
       "</table>\n",
       "</div>"
      ],
      "text/plain": [
       "   Id   ProductId          UserId                      ProfileName  \\\n",
       "0   1  B001E4KFG0  A3SGXH7AUHU8GW                       delmartian   \n",
       "1   2  B00813GRG4  A1D87F6ZCVE5NK                           dll pa   \n",
       "2   3  B000LQOCH0   ABXLMWJIXXAIN  Natalia Corres \"Natalia Corres\"   \n",
       "3   4  B000UA0QIQ  A395BORC6FGVXV                             Karl   \n",
       "4   5  B006K2ZZ7K  A1UQRSCLF8GW1T    Michael D. Bigham \"M. Wassir\"   \n",
       "\n",
       "   HelpfulnessNumerator  HelpfulnessDenominator  Score        Time  \\\n",
       "0                     1                       1      5  1303862400   \n",
       "1                     0                       0      1  1346976000   \n",
       "2                     1                       1      4  1219017600   \n",
       "3                     3                       3      2  1307923200   \n",
       "4                     0                       0      5  1350777600   \n",
       "\n",
       "                 Summary                                               Text  \n",
       "0  Good Quality Dog Food  I have bought several of the Vitality canned d...  \n",
       "1      Not as Advertised  Product arrived labeled as Jumbo Salted Peanut...  \n",
       "2  \"Delight\" says it all  This is a confection that has been around a fe...  \n",
       "3         Cough Medicine  If you are looking for the secret ingredient i...  \n",
       "4            Great taffy  Great taffy at a great price.  There was a wid...  "
      ]
     },
     "execution_count": 41,
     "metadata": {},
     "output_type": "execute_result"
    }
   ],
   "source": [
    "df=pd.read_csv(\"foodreviews.csv\")\n",
    "df.head()"
   ]
  },
  {
   "cell_type": "code",
   "execution_count": null,
   "id": "dcbb11b5-9c1d-40af-9943-05ac5bce2bb9",
   "metadata": {},
   "outputs": [],
   "source": [
    "df.info()"
   ]
  },
  {
   "cell_type": "code",
   "execution_count": null,
   "id": "904350b6-1c24-481e-9567-276efbf9de2b",
   "metadata": {},
   "outputs": [],
   "source": [
    "df.describe()"
   ]
  },
  {
   "cell_type": "code",
   "execution_count": null,
   "id": "3854a567-86b0-4478-8fd3-6277ec9e2163",
   "metadata": {},
   "outputs": [],
   "source": [
    "df[['ProductId', 'Id']].nunique()"
   ]
  },
  {
   "cell_type": "code",
   "execution_count": null,
   "id": "bca05153-e349-42db-af3a-1463ec3bd437",
   "metadata": {},
   "outputs": [],
   "source": [
    "df = df.drop_duplicates(subset='Text')\n",
    "df[['ProductId', 'Id']].nunique()"
   ]
  },
  {
   "cell_type": "code",
   "execution_count": null,
   "id": "f7ede324-d8f6-4a26-ad45-950636e8b12f",
   "metadata": {},
   "outputs": [],
   "source": [
    "invalid_rows = df[df['HelpfulnessNumerator'] > df['HelpfulnessDenominator']]\n",
    "print(f\"Invalid rows found: {len(invalid_rows)}\")"
   ]
  },
  {
   "cell_type": "code",
   "execution_count": null,
   "id": "aeaa1040-991d-4637-bdad-b802210da133",
   "metadata": {},
   "outputs": [],
   "source": [
    "df = df[df['HelpfulnessNumerator'] <= df['HelpfulnessDenominator']]"
   ]
  },
  {
   "cell_type": "code",
   "execution_count": null,
   "id": "913d0412-5847-4d83-b917-37dd9e75911a",
   "metadata": {},
   "outputs": [],
   "source": [
    "df['Date'] = pd.to_datetime(df['Time'], unit='s')\n",
    "\n",
    "df['Year'] = pd.to_datetime(df['Date']).dt.year\n",
    "\n",
    "df['Month'] = pd.to_datetime(df['Date']).dt.month"
   ]
  },
  {
   "cell_type": "code",
   "execution_count": null,
   "id": "95ebfcb7-d7b1-444e-bbb2-4171f8a6bfb5",
   "metadata": {},
   "outputs": [],
   "source": [
    "user_counts = df['UserId'].value_counts()\n",
    "total_users = user_counts.shape[0]\n",
    "\n",
    "unique_users = (user_counts == 1).sum() / total_users * 100\n",
    "recurrent_users = ((user_counts > 1) & (user_counts <= 50)).sum()  / total_users * 100\n",
    "excessive_users = (user_counts > 50).sum()  / total_users * 100\n",
    "\n",
    "print(f\"Unique users (reviewed once): {unique_users}\")\n",
    "print(f\"Recurrent users (multiple reviews): {recurrent_users}\")\n",
    "print(f\"Excessive users (>30 reviews): {excessive_users}\")"
   ]
  },
  {
   "cell_type": "code",
   "execution_count": null,
   "id": "01f590c2-8cad-4885-aea9-f370cefecb4f",
   "metadata": {},
   "outputs": [],
   "source": [
    "unique_prod_per_year = df.groupby('Year')['ProductId'].nunique()\n",
    "\n",
    "plt.figure(figsize=(8,5))\n",
    "unique_prod_per_year.plot(kind='bar')\n",
    "plt.title('Unique ProductId Count by Year')\n",
    "plt.xlabel('Year')\n",
    "plt.ylabel('Unique ProductId Count')\n",
    "plt.show()"
   ]
  },
  {
   "cell_type": "code",
   "execution_count": null,
   "id": "2c772ff0-5c77-4a80-8eb5-f25b88abca3e",
   "metadata": {},
   "outputs": [],
   "source": [
    "df['UserReviewCount'] = df.groupby('UserId')['UserId'].transform('count')\n",
    "df['UserFrequency'] = np.where(df['UserReviewCount'] > 50, 'Excessive', 'Expected')\n",
    "\n",
    "df_filtered_excessive = df[df['UserFrequency'] == 'Excessive']\n",
    "\n",
    "df_filtered_excessive['Score'].value_counts()"
   ]
  },
  {
   "cell_type": "code",
   "execution_count": null,
   "id": "f1437482-b551-44b5-bcbc-b633bfbc580d",
   "metadata": {},
   "outputs": [],
   "source": [
    "df['HelpfulnessRate'] = df['HelpfulnessNumerator'] / df['HelpfulnessDenominator']\n",
    "df['HelpfulnessRate'].value_counts()\n"
   ]
  },
  {
   "cell_type": "code",
   "execution_count": null,
   "id": "85c6e0d1-0fe4-4560-939c-9d86de8796f6",
   "metadata": {},
   "outputs": [],
   "source": [
    "df['NonHelpfulnessNumerator'] = df['HelpfulnessDenominator'] - df['HelpfulnessNumerator']"
   ]
  },
  {
   "cell_type": "code",
   "execution_count": null,
   "id": "2a851ee3-8f7f-45df-a96a-b867e24a7fbe",
   "metadata": {},
   "outputs": [],
   "source": [
    "df['Text'].duplicated().sum()"
   ]
  },
  {
   "cell_type": "code",
   "execution_count": null,
   "id": "eda1b4d5-3034-4195-a624-42f4785857b7",
   "metadata": {},
   "outputs": [],
   "source": [
    "df['UserId'].nunique()"
   ]
  },
  {
   "cell_type": "code",
   "execution_count": null,
   "id": "9535d510-9bb5-49cc-a4e8-432659e8eb71",
   "metadata": {},
   "outputs": [],
   "source": [
    "plt.figure(figsize=(8, 4))\n",
    "sns.histplot(data=df, x='HelpfulnessDenominator', bins=np.arange(0, 200, 5), multiple='stack')\n",
    "plt.grid(True)\n",
    "plt.title('Helpfulness Participation Histogram');"
   ]
  },
  {
   "cell_type": "code",
   "execution_count": null,
   "id": "90cab292-008f-4fe4-8c74-b57f7ee455b3",
   "metadata": {},
   "outputs": [],
   "source": [
    "plt.figure(figsize=(8, 4))\n",
    "sns.histplot(data=df[df['HelpfulnessDenominator'] != 0], x='HelpfulnessRate', bins=np.arange(0, 1, 0.05), multiple='stack')\n",
    "plt.title('Helpfulness Rate Histogram');"
   ]
  },
  {
   "cell_type": "code",
   "execution_count": null,
   "id": "faa02f04-06ab-4757-889d-a06501013ee8",
   "metadata": {},
   "outputs": [],
   "source": [
    "df[['HelpfulnessNumerator', 'NonHelpfulnessNumerator']].describe()"
   ]
  },
  {
   "cell_type": "code",
   "execution_count": null,
   "id": "6eb66a7a-a3d0-4ef3-aca9-ca2e01889c7c",
   "metadata": {},
   "outputs": [],
   "source": [
    "plt.figure(figsize=(20, 6))\n",
    "sns.boxplot(data=df[['HelpfulnessNumerator', 'NonHelpfulnessNumerator']], orient='h')\n",
    "plt.title('Boxplots of Helpfulness Reactions')\n",
    "plt.show()"
   ]
  },
  {
   "cell_type": "code",
   "execution_count": null,
   "id": "da197cdc-26cd-4654-aa22-973432f03035",
   "metadata": {},
   "outputs": [],
   "source": [
    "filtered_help = df[df['HelpfulnessNumerator']<150]\n",
    "\n",
    "plt.figure(figsize=(20, 6))\n",
    "sns.boxplot(data=filtered_help[['HelpfulnessNumerator', 'NonHelpfulnessNumerator']], orient='h')\n",
    "plt.title('Boxplots of Helpfulness Reactions')\n",
    "plt.show()"
   ]
  },
  {
   "cell_type": "code",
   "execution_count": null,
   "id": "eed07fc0-7318-42fc-bb7b-33c6eca23a5e",
   "metadata": {},
   "outputs": [],
   "source": []
  },
  {
   "cell_type": "code",
   "execution_count": null,
   "id": "6a387874-23d1-4357-84ad-7385881ca9cb",
   "metadata": {},
   "outputs": [],
   "source": [
    "plt.figure(figsize=(4, 3))\n",
    "sns.countplot(data=df, x='Score')\n",
    "plt.title('Count of Scores')\n",
    "plt.show()"
   ]
  },
  {
   "cell_type": "code",
   "execution_count": null,
   "id": "255bcb2a-0ad3-41d5-8a0f-6197f93b46f3",
   "metadata": {},
   "outputs": [],
   "source": [
    "grouped_score = df.groupby('Score')[['HelpfulnessNumerator', 'NonHelpfulnessNumerator']].mean().reset_index()\n",
    "print(grouped_score)"
   ]
  },
  {
   "cell_type": "code",
   "execution_count": null,
   "id": "15c1b18f-8cda-4fda-bbe8-550f03f1c16e",
   "metadata": {},
   "outputs": [],
   "source": [
    "yearly_sum = df[['Year', 'HelpfulnessNumerator', 'NonHelpfulnessNumerator']].groupby('Year').sum()\n",
    "\n",
    "plt.figure(figsize=(10, 6))\n",
    "plt.plot(yearly_sum.index, yearly_sum['HelpfulnessNumerator'], marker='o', label='HelpfulnessNumerator')\n",
    "plt.plot(yearly_sum.index, yearly_sum['NonHelpfulnessNumerator'], marker='o', label='NonHelpfulnessNumerator')\n",
    "\n",
    "plt.xlabel('Year')\n",
    "plt.ylabel('Sum')\n",
    "plt.title('Yearly Sum of Helpfulness Metrics')\n",
    "plt.legend()\n",
    "plt.grid(True)\n",
    "plt.tight_layout()\n",
    "plt.show()"
   ]
  },
  {
   "cell_type": "code",
   "execution_count": null,
   "id": "3804a352-57fe-4ba2-8d7b-012a325d0746",
   "metadata": {},
   "outputs": [],
   "source": [
    "plt.figure(figsize=(10, 5))\n",
    "sns.countplot(data=df, x='Year', hue='Score')\n",
    "plt.title('Count of Reviews by Year')\n",
    "plt.xticks(rotation=45)\n",
    "plt.show()"
   ]
  },
  {
   "cell_type": "code",
   "execution_count": null,
   "id": "18da1298-1206-4003-838f-50a620af2069",
   "metadata": {},
   "outputs": [],
   "source": [
    "plt.figure(figsize=(10, 5))\n",
    "sns.countplot(data=df, x='Month', hue='Score')\n",
    "plt.title('Count of Reviews by Month')\n",
    "plt.xticks(rotation=45)\n",
    "plt.show()"
   ]
  },
  {
   "cell_type": "code",
   "execution_count": null,
   "id": "4a2f27c1-787c-4b7a-b7b7-3bb60ca92d54",
   "metadata": {},
   "outputs": [],
   "source": [
    "stopwords = set(STOPWORDS)\n",
    "custom_stopwords = set(STOPWORDS)\n",
    "custom_stopwords.add('br')\n",
    "\n",
    "pos_joined_text = ' '.join(df[df['Score'] == 5]['Text'].astype(str))\n",
    "\n",
    "pos_wordcloud = WordCloud(width=1000, height=400, background_color='white', colormap='Greens', stopwords=custom_stopwords, collocations=False).generate(pos_joined_text)\n",
    "\n",
    "plt.figure(figsize=(15, 5))\n",
    "plt.imshow(pos_wordcloud, interpolation='bilinear')\n",
    "plt.title('Wordcloud for reviews on positive scores (5)', fontsize=12)\n",
    "plt.axis('off')\n",
    "plt.tight_layout()\n",
    "plt.show()"
   ]
  },
  {
   "cell_type": "code",
   "execution_count": null,
   "id": "721f7042-b831-4d42-a7a2-e49aedddb46c",
   "metadata": {},
   "outputs": [],
   "source": [
    "stopwords = set(STOPWORDS)\n",
    "neg_joined_text = ' '.join(df[df['Score'] == 1]['Text'].astype(str))\n",
    "\n",
    "neg_wordcloud = WordCloud(width=1000, height=400, background_color='white', colormap='Reds', stopwords=custom_stopwords, collocations=False).generate(neg_joined_text)\n",
    "\n",
    "plt.figure(figsize=(15, 5))\n",
    "plt.imshow(neg_wordcloud, interpolation='bilinear')\n",
    "plt.title('Wordcloud for reviews on negative scores (1)', fontsize=12)\n",
    "plt.axis('off')\n",
    "plt.tight_layout()\n",
    "plt.show()"
   ]
  },
  {
   "cell_type": "code",
   "execution_count": null,
   "id": "99179c16-35e9-4dc9-ac93-79cf83a5f1ec",
   "metadata": {},
   "outputs": [],
   "source": [
    "tophelpful_joined_text = ' '.join(df[df['HelpfulnessNumerator'] > 200]['Text'].astype(str))\n",
    "\n",
    "helpful_wordcloud = WordCloud(width=1000, height=400, background_color='white', colormap='Blues', stopwords=custom_stopwords, collocations=False).generate(tophelpful_joined_text)\n",
    "\n",
    "plt.figure(figsize=(15, 5))\n",
    "plt.imshow(helpful_wordcloud, interpolation='bilinear')\n",
    "plt.title('Wordcloud for Reviews with > 200 Helpful Reactions', fontsize=12)\n",
    "plt.axis('off')\n",
    "plt.tight_layout()\n",
    "plt.show()"
   ]
  },
  {
   "cell_type": "code",
   "execution_count": null,
   "id": "b5401b3a-497d-42d9-9ec4-b16957031878",
   "metadata": {},
   "outputs": [],
   "source": [
    "df[['HelpfulnessNumerator', 'ProductId', 'Summary', 'Text']].sort_values(by='HelpfulnessNumerator', ascending=False).head()"
   ]
  },
  {
   "cell_type": "code",
   "execution_count": null,
   "id": "fdee43e1-a9b8-4624-b2aa-bb948ea6e5e6",
   "metadata": {},
   "outputs": [],
   "source": [
    "df['TextLen'] = df['Text'].str.len()\n",
    "\n",
    "plt.figure(figsize=(15, 3))\n",
    "sns.boxplot(x=df['TextLen'])\n",
    "plt.xlabel('Text Length')\n",
    "plt.title('Boxplot of Text Length')\n",
    "plt.show()"
   ]
  },
  {
   "cell_type": "code",
   "execution_count": null,
   "id": "a2e53ca8-896c-4dca-932e-f9f32a5c670b",
   "metadata": {},
   "outputs": [],
   "source": [
    "df_lenfiltered = df[df['Text'].str.len() <= 15000]\n",
    "plt.figure(figsize=(15, 6))\n",
    "plt.scatter(df_lenfiltered['TextLen'], df_lenfiltered['HelpfulnessNumerator'], alpha=0.3, s=10)\n",
    "plt.title('Length vs. Helpfulness')\n",
    "plt.xlabel('Length of Review Text (characters)')\n",
    "plt.ylabel('Helpfulness Numerator')\n",
    "plt.grid(True)"
   ]
  },
  {
   "cell_type": "code",
   "execution_count": null,
   "id": "a30be572-214e-4d81-9ea3-02e2b22e08dd",
   "metadata": {},
   "outputs": [],
   "source": [
    "plt.figure(figsize=(10, 3))\n",
    "plt.scatter(df_lenfiltered['TextLen'], df_lenfiltered['Score'], alpha=0.3, s=10)\n",
    "plt.title('Length vs. Score')\n",
    "plt.xlabel('Length of Review Text (characters)')\n",
    "plt.ylabel('Score')\n",
    "plt.grid(True)"
   ]
  },
  {
   "cell_type": "code",
   "execution_count": null,
   "id": "0bfedefb-3912-4ab7-a9a4-895fe1a191b6",
   "metadata": {
    "scrolled": true
   },
   "outputs": [],
   "source": [
    "def get_top_words(texts, top_n=20):\n",
    "    vectorizer = CountVectorizer(stop_words='english', max_features=1000)\n",
    "    X = vectorizer.fit_transform(texts)\n",
    "    \n",
    "    word_counts = X.toarray().sum(axis=0)\n",
    "    vocab = vectorizer.get_feature_names_out()\n",
    "    \n",
    "    word_freq = pd.Series(word_counts, index=vocab)\n",
    "    return word_freq.sort_values(ascending=False).head(top_n)\n",
    "\n",
    "# Filter your datasets\n",
    "texts_positive = df.loc[df['Score'] == 5, 'Summary'].dropna()\n",
    "texts_negative = df.loc[df['Score'] == 1, 'Summary'].dropna()\n",
    "texts_helpful = df.loc[df['HelpfulnessNumerator'] > 10, 'Summary'].dropna()\n",
    "\n",
    "# Get top words\n",
    "print(\"Top words in positive reviews:\")\n",
    "print(get_top_words(texts_positive))\n",
    "\n",
    "print(\"\\nTop words in negative reviews:\")\n",
    "print(get_top_words(texts_negative))\n",
    "\n",
    "print(\"\\nTop words in helpful reviews:\")\n",
    "print(get_top_words(texts_helpful))\n",
    "\n",
    "print(\"\\nTop words in most reviewd product:\")\n",
    "print(get_top_words(text_top_product))"
   ]
  },
  {
   "cell_type": "code",
   "execution_count": null,
   "id": "0073aaa6-95b7-487b-a751-6a0326b1e47c",
   "metadata": {},
   "outputs": [],
   "source": [
    "def cluster_and_show_top_words(texts, n_clusters=5, max_features=500, top_n=10):\n",
    "    vectorizer = TfidfVectorizer(max_features=max_features, stop_words='english')\n",
    "    X = vectorizer.fit_transform(texts)\n",
    "    \n",
    "    kmeans = KMeans(n_clusters=n_clusters, random_state=42)\n",
    "    kmeans.fit(X)\n",
    "    \n",
    "    terms = vectorizer.get_feature_names_out()\n",
    "    order_centroids = kmeans.cluster_centers_.argsort()[:, ::-1]\n",
    "    \n",
    "    for i in range(n_clusters):\n",
    "        top_words = [terms[ind] for ind in order_centroids[i, :top_n]]\n",
    "        print(f\"Cluster {i} top words: {', '.join(top_words)}\")\n",
    "    print('-' * 40)\n",
    "\n",
    "# Filter your data\n",
    "summary_positive = df.loc[df['Score'] == 5, 'Summary'].dropna()\n",
    "summary_negative = df.loc[df['Score'] == 1, 'Summary'].dropna()\n",
    "text_top_product = df.loc[df['ProductId'] == 'B007JFMH8M', 'Text'].dropna()\n",
    "\n",
    "print(\"Positive Reviews Clusters:\")\n",
    "cluster_and_show_top_words(summary_positive)\n",
    "\n",
    "print(\"Negative Reviews Clusters:\")\n",
    "cluster_and_show_top_words(summary_negative)\n",
    "\n",
    "print(\"Negative Reviews Clusters:\")\n",
    "cluster_and_show_top_words(text_top_product)"
   ]
  },
  {
   "cell_type": "code",
   "execution_count": null,
   "id": "72bbc004-ab67-4138-b626-65038ed4b80f",
   "metadata": {},
   "outputs": [],
   "source": [
    "df[df['ProductId'] == df['ProductId'].value_counts().idxmax()][['ProductId', 'Summary', 'Date']].head(3)"
   ]
  },
  {
   "cell_type": "code",
   "execution_count": null,
   "id": "021efeee-5107-4e2e-973f-99bce83f043e",
   "metadata": {},
   "outputs": [],
   "source": [
    "top_product = df[df['ProductId'] == 'B007JFMH8M']\n",
    "top_product.shape"
   ]
  },
  {
   "cell_type": "code",
   "execution_count": null,
   "id": "a96fc66a-be3c-42d6-80fe-9f0fad35851f",
   "metadata": {},
   "outputs": [],
   "source": [
    "top_product[['Text', 'Date']].head()"
   ]
  },
  {
   "cell_type": "code",
   "execution_count": null,
   "id": "295686c5-ae6f-4c88-aae8-84584dc25002",
   "metadata": {},
   "outputs": [],
   "source": [
    "def categorize_sentiment_detailed(text):\n",
    "    polarity = TextBlob(text).sentiment.polarity\n",
    "    \n",
    "    if polarity >= 0.6:\n",
    "        return \"Strongly Positive\"\n",
    "    elif polarity > 0.1:\n",
    "        return \"Positive\"\n",
    "    elif polarity >= -0.1 and polarity <= 0.1:\n",
    "        return \"Neutral\"\n",
    "    elif polarity < -0.1 and polarity >= -0.6:\n",
    "        return \"Negative\"\n",
    "    else:\n",
    "        return \"Strongly Negative\"\n",
    "    \n",
    "df['SentimentText'] = df['Text'].apply(categorize_sentiment_detailed)"
   ]
  },
  {
   "cell_type": "code",
   "execution_count": null,
   "id": "c77827a3-bb63-4c39-a712-1dc352a23cab",
   "metadata": {},
   "outputs": [],
   "source": [
    "df.to_csv(\"FoodReviews_V2.csv\", index=False)"
   ]
  }
 ],
 "metadata": {
  "kernelspec": {
   "display_name": "Python 3 (ipykernel)",
   "language": "python",
   "name": "python3"
  },
  "language_info": {
   "codemirror_mode": {
    "name": "ipython",
    "version": 3
   },
   "file_extension": ".py",
   "mimetype": "text/x-python",
   "name": "python",
   "nbconvert_exporter": "python",
   "pygments_lexer": "ipython3",
   "version": "3.9.11"
  }
 },
 "nbformat": 4,
 "nbformat_minor": 5
}
